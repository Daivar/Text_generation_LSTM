{
  "cells": [
    {
      "cell_type": "markdown",
      "metadata": {
        "id": "view-in-github",
        "colab_type": "text"
      },
      "source": [
        "<a href=\"https://colab.research.google.com/github/Daivar/Text_generation_LSTM/blob/main/Text_generation_LSTM.ipynb\" target=\"_parent\"><img src=\"https://colab.research.google.com/assets/colab-badge.svg\" alt=\"Open In Colab\"/></a>"
      ]
    },
    {
      "cell_type": "code",
      "execution_count": 1,
      "metadata": {
        "id": "ke2kep6ZE88J"
      },
      "outputs": [],
      "source": [
        "from tensorflow.keras.preprocessing.sequence import pad_sequences\n",
        "from tensorflow.keras.layers import Embedding, LSTM, Dense, Dropout, Bidirectional\n",
        "from tensorflow.keras.preprocessing.text import Tokenizer\n",
        "from tensorflow.keras.models import Sequential\n",
        "from tensorflow.keras.optimizers import Adam\n",
        "from tensorflow.keras import regularizers\n",
        "import tensorflow.keras.utils as ku \n",
        "import numpy as np"
      ]
    },
    {
      "cell_type": "markdown",
      "metadata": {
        "id": "U62g_EQyf_08"
      },
      "source": [
        "##### Dataset from Kaggle https://www.kaggle.com/shivamb/beginners-guide-to-text-generation-using-lstms/data\n",
        "##### https://towardsdatascience.com/nlp-text-generation-through-bidirectional-lstm-model-9af29da4e520"
      ]
    },
    {
      "cell_type": "code",
      "execution_count": 2,
      "metadata": {
        "id": "i6F1zAhYE-eu"
      },
      "outputs": [],
      "source": [
        "tokenizer = Tokenizer()\n",
        "data = open('April/ArticlesApril2017.csv').read()\n",
        "corpus = data.lower().split(\"\\n\")\n",
        "tokenizer.fit_on_texts(corpus)\n",
        "total_words = len(tokenizer.word_index) + 1"
      ]
    },
    {
      "cell_type": "code",
      "execution_count": 3,
      "metadata": {
        "id": "1vNyp556FI-H"
      },
      "outputs": [],
      "source": [
        "# create input sequences using list of tokens\n",
        "input_sequences = []\n",
        "for line in corpus:\n",
        "    token_list = tokenizer.texts_to_sequences([line])[0]\n",
        "    for i in range(1, len(token_list)):\n",
        "        n_gram_sequence = token_list[:i+1]\n",
        "        input_sequences.append(n_gram_sequence)"
      ]
    },
    {
      "cell_type": "code",
      "execution_count": 4,
      "metadata": {
        "id": "lh530eq2FNi2"
      },
      "outputs": [],
      "source": [
        "# pad sequences \n",
        "max_sequence_len = max([len(x) for x in input_sequences])\n",
        "input_sequences = np.array(pad_sequences(input_sequences, maxlen=max_sequence_len, padding='pre'))"
      ]
    },
    {
      "cell_type": "code",
      "execution_count": 5,
      "metadata": {
        "id": "ajLbaNzcFO72"
      },
      "outputs": [],
      "source": [
        "# create predictors and label\n",
        "predictors, label = input_sequences[:,:-1],input_sequences[:,-1]\n",
        "\n",
        "label = ku.to_categorical(label, num_classes=total_words)"
      ]
    },
    {
      "cell_type": "code",
      "execution_count": 6,
      "metadata": {
        "colab": {
          "base_uri": "https://localhost:8080/"
        },
        "id": "eq0WaPehFUNc",
        "outputId": "55327b9f-afd8-4e5c-df0c-42c2fddf12dd"
      },
      "outputs": [
        {
          "output_type": "stream",
          "name": "stdout",
          "text": [
            "Model: \"sequential\"\n",
            "_________________________________________________________________\n",
            " Layer (type)                Output Shape              Param #   \n",
            "=================================================================\n",
            " embedding (Embedding)       (None, 142, 100)          1161200   \n",
            "                                                                 \n",
            " bidirectional (Bidirectiona  (None, 142, 300)         301200    \n",
            " l)                                                              \n",
            "                                                                 \n",
            " dropout (Dropout)           (None, 142, 300)          0         \n",
            "                                                                 \n",
            " lstm_1 (LSTM)               (None, 100)               160400    \n",
            "                                                                 \n",
            " dense (Dense)               (None, 5806)              586406    \n",
            "                                                                 \n",
            " dense_1 (Dense)             (None, 11612)             67430884  \n",
            "                                                                 \n",
            "=================================================================\n",
            "Total params: 69,640,090\n",
            "Trainable params: 69,640,090\n",
            "Non-trainable params: 0\n",
            "_________________________________________________________________\n",
            "None\n"
          ]
        }
      ],
      "source": [
        "model = Sequential()\n",
        "model.add(Embedding(total_words, 100, input_length=max_sequence_len-1))\n",
        "model.add(Bidirectional(LSTM(150, return_sequences = True)))\n",
        "model.add(Dropout(0.1))\n",
        "model.add(LSTM(100))\n",
        "model.add(Dense(total_words/2, activation='relu', kernel_regularizer=regularizers.l2(0.01)))\n",
        "model.add(Dense(total_words, activation='softmax'))\n",
        "model.compile(loss='categorical_crossentropy', optimizer='adam', metrics=['accuracy'])\n",
        "print(model.summary())"
      ]
    },
    {
      "cell_type": "code",
      "execution_count": 8,
      "metadata": {
        "colab": {
          "base_uri": "https://localhost:8080/"
        },
        "id": "3-1_O29FYeI3",
        "outputId": "eafba136-e977-4a34-e767-12f594043ff0"
      },
      "outputs": [
        {
          "output_type": "stream",
          "name": "stdout",
          "text": [
            "Epoch 1/80\n",
            "512/512 [==============================] - 102s 200ms/step - loss: 6.6941 - accuracy: 0.0977\n",
            "Epoch 2/80\n",
            "512/512 [==============================] - 102s 199ms/step - loss: 5.5659 - accuracy: 0.2495\n",
            "Epoch 3/80\n",
            "512/512 [==============================] - 102s 200ms/step - loss: 5.0265 - accuracy: 0.2979\n",
            "Epoch 4/80\n",
            "512/512 [==============================] - 102s 199ms/step - loss: 4.7093 - accuracy: 0.3111\n",
            "Epoch 5/80\n",
            "512/512 [==============================] - 101s 198ms/step - loss: 4.4820 - accuracy: 0.3220\n",
            "Epoch 6/80\n",
            "512/512 [==============================] - 102s 199ms/step - loss: 4.2970 - accuracy: 0.3327\n",
            "Epoch 7/80\n",
            "512/512 [==============================] - 102s 199ms/step - loss: 4.1374 - accuracy: 0.3427\n",
            "Epoch 8/80\n",
            "512/512 [==============================] - 102s 199ms/step - loss: 3.9945 - accuracy: 0.3511\n",
            "Epoch 9/80\n",
            "512/512 [==============================] - 101s 198ms/step - loss: 3.8556 - accuracy: 0.3598\n",
            "Epoch 10/80\n",
            "512/512 [==============================] - 102s 199ms/step - loss: 3.7225 - accuracy: 0.3685\n",
            "Epoch 11/80\n",
            "512/512 [==============================] - 102s 199ms/step - loss: 3.5918 - accuracy: 0.3788\n",
            "Epoch 12/80\n",
            "512/512 [==============================] - 102s 199ms/step - loss: 3.4712 - accuracy: 0.3900\n",
            "Epoch 13/80\n",
            "512/512 [==============================] - 101s 198ms/step - loss: 3.3486 - accuracy: 0.4014\n",
            "Epoch 14/80\n",
            "512/512 [==============================] - 102s 199ms/step - loss: 3.2304 - accuracy: 0.4133\n",
            "Epoch 15/80\n",
            "512/512 [==============================] - 102s 199ms/step - loss: 3.1162 - accuracy: 0.4260\n",
            "Epoch 16/80\n",
            "512/512 [==============================] - 102s 199ms/step - loss: 3.0111 - accuracy: 0.4389\n",
            "Epoch 17/80\n",
            "512/512 [==============================] - 101s 198ms/step - loss: 2.9083 - accuracy: 0.4521\n",
            "Epoch 18/80\n",
            "512/512 [==============================] - 102s 199ms/step - loss: 2.8105 - accuracy: 0.4648\n",
            "Epoch 19/80\n",
            "512/512 [==============================] - 102s 199ms/step - loss: 2.7174 - accuracy: 0.4801\n",
            "Epoch 20/80\n",
            "512/512 [==============================] - 102s 199ms/step - loss: 2.6280 - accuracy: 0.4971\n",
            "Epoch 21/80\n",
            "512/512 [==============================] - 101s 198ms/step - loss: 2.5398 - accuracy: 0.5135\n",
            "Epoch 22/80\n",
            "512/512 [==============================] - 102s 199ms/step - loss: 2.4590 - accuracy: 0.5266\n",
            "Epoch 23/80\n",
            "512/512 [==============================] - 102s 199ms/step - loss: 2.3766 - accuracy: 0.5434\n",
            "Epoch 24/80\n",
            "512/512 [==============================] - 102s 199ms/step - loss: 2.3006 - accuracy: 0.5587\n",
            "Epoch 25/80\n",
            "512/512 [==============================] - 101s 198ms/step - loss: 2.2302 - accuracy: 0.5714\n",
            "Epoch 26/80\n",
            "512/512 [==============================] - 102s 199ms/step - loss: 2.1597 - accuracy: 0.5851\n",
            "Epoch 27/80\n",
            "512/512 [==============================] - 102s 199ms/step - loss: 2.0885 - accuracy: 0.6015\n",
            "Epoch 28/80\n",
            "512/512 [==============================] - 102s 199ms/step - loss: 2.0298 - accuracy: 0.6128\n",
            "Epoch 29/80\n",
            "512/512 [==============================] - 101s 198ms/step - loss: 1.9695 - accuracy: 0.6247\n",
            "Epoch 30/80\n",
            "512/512 [==============================] - 102s 199ms/step - loss: 1.9105 - accuracy: 0.6367\n",
            "Epoch 31/80\n",
            "512/512 [==============================] - 102s 199ms/step - loss: 1.8523 - accuracy: 0.6502\n",
            "Epoch 32/80\n",
            "512/512 [==============================] - 102s 198ms/step - loss: 1.7984 - accuracy: 0.6594\n",
            "Epoch 33/80\n",
            "512/512 [==============================] - 101s 198ms/step - loss: 1.7450 - accuracy: 0.6711\n",
            "Epoch 34/80\n",
            "512/512 [==============================] - 102s 198ms/step - loss: 1.6960 - accuracy: 0.6816\n",
            "Epoch 35/80\n",
            "512/512 [==============================] - 102s 199ms/step - loss: 1.6429 - accuracy: 0.6940\n",
            "Epoch 36/80\n",
            "512/512 [==============================] - 102s 198ms/step - loss: 1.6050 - accuracy: 0.7014\n",
            "Epoch 37/80\n",
            "512/512 [==============================] - 101s 198ms/step - loss: 1.5631 - accuracy: 0.7080\n",
            "Epoch 38/80\n",
            "512/512 [==============================] - 102s 199ms/step - loss: 1.5159 - accuracy: 0.7193\n",
            "Epoch 39/80\n",
            "512/512 [==============================] - 102s 199ms/step - loss: 1.4769 - accuracy: 0.7267\n",
            "Epoch 40/80\n",
            "512/512 [==============================] - 102s 199ms/step - loss: 1.4326 - accuracy: 0.7371\n",
            "Epoch 41/80\n",
            "512/512 [==============================] - 101s 198ms/step - loss: 1.3968 - accuracy: 0.7446\n",
            "Epoch 42/80\n",
            "512/512 [==============================] - 102s 199ms/step - loss: 1.3633 - accuracy: 0.7510\n",
            "Epoch 43/80\n",
            "512/512 [==============================] - 102s 200ms/step - loss: 1.3256 - accuracy: 0.7589\n",
            "Epoch 44/80\n",
            "512/512 [==============================] - 102s 199ms/step - loss: 1.2871 - accuracy: 0.7661\n",
            "Epoch 45/80\n",
            "512/512 [==============================] - 101s 198ms/step - loss: 1.2569 - accuracy: 0.7727\n",
            "Epoch 46/80\n",
            "512/512 [==============================] - 102s 199ms/step - loss: 1.2212 - accuracy: 0.7814\n",
            "Epoch 47/80\n",
            "512/512 [==============================] - 102s 199ms/step - loss: 1.1969 - accuracy: 0.7858\n",
            "Epoch 48/80\n",
            "512/512 [==============================] - 102s 199ms/step - loss: 1.1699 - accuracy: 0.7905\n",
            "Epoch 49/80\n",
            "512/512 [==============================] - 101s 198ms/step - loss: 1.1386 - accuracy: 0.7979\n",
            "Epoch 50/80\n",
            "512/512 [==============================] - 102s 199ms/step - loss: 1.1077 - accuracy: 0.8046\n",
            "Epoch 51/80\n",
            "512/512 [==============================] - 102s 199ms/step - loss: 1.0834 - accuracy: 0.8099\n",
            "Epoch 52/80\n",
            "512/512 [==============================] - 102s 199ms/step - loss: 1.0575 - accuracy: 0.8146\n",
            "Epoch 53/80\n",
            "512/512 [==============================] - 101s 197ms/step - loss: 1.0331 - accuracy: 0.8208\n",
            "Epoch 54/80\n",
            "512/512 [==============================] - 101s 198ms/step - loss: 1.0060 - accuracy: 0.8251\n",
            "Epoch 55/80\n",
            "512/512 [==============================] - 102s 199ms/step - loss: 0.9837 - accuracy: 0.8317\n",
            "Epoch 56/80\n",
            "512/512 [==============================] - 102s 198ms/step - loss: 0.9628 - accuracy: 0.8349\n",
            "Epoch 57/80\n",
            "512/512 [==============================] - 101s 198ms/step - loss: 0.9373 - accuracy: 0.8415\n",
            "Epoch 58/80\n",
            "512/512 [==============================] - 102s 199ms/step - loss: 0.9136 - accuracy: 0.8447\n",
            "Epoch 59/80\n",
            "512/512 [==============================] - 102s 199ms/step - loss: 0.8967 - accuracy: 0.8478\n",
            "Epoch 60/80\n",
            "512/512 [==============================] - 102s 199ms/step - loss: 0.8715 - accuracy: 0.8543\n",
            "Epoch 61/80\n",
            "512/512 [==============================] - 101s 198ms/step - loss: 0.8546 - accuracy: 0.8580\n",
            "Epoch 62/80\n",
            "512/512 [==============================] - 103s 201ms/step - loss: 0.8345 - accuracy: 0.8631\n",
            "Epoch 63/80\n",
            "512/512 [==============================] - 102s 200ms/step - loss: 0.8249 - accuracy: 0.8633\n",
            "Epoch 64/80\n",
            "512/512 [==============================] - 102s 199ms/step - loss: 0.8056 - accuracy: 0.8675\n",
            "Epoch 65/80\n",
            "512/512 [==============================] - 101s 198ms/step - loss: 0.7874 - accuracy: 0.8719\n",
            "Epoch 66/80\n",
            "512/512 [==============================] - 102s 199ms/step - loss: 0.7669 - accuracy: 0.8754\n",
            "Epoch 67/80\n",
            "512/512 [==============================] - 102s 199ms/step - loss: 0.7455 - accuracy: 0.8805\n",
            "Epoch 68/80\n",
            "512/512 [==============================] - 102s 199ms/step - loss: 0.7415 - accuracy: 0.8798\n",
            "Epoch 69/80\n",
            "512/512 [==============================] - 101s 198ms/step - loss: 0.7213 - accuracy: 0.8864\n",
            "Epoch 70/80\n",
            "512/512 [==============================] - 102s 199ms/step - loss: 0.7113 - accuracy: 0.8859\n",
            "Epoch 71/80\n",
            "512/512 [==============================] - 102s 199ms/step - loss: 0.6930 - accuracy: 0.8906\n",
            "Epoch 72/80\n",
            "512/512 [==============================] - 102s 199ms/step - loss: 0.6778 - accuracy: 0.8942\n",
            "Epoch 73/80\n",
            "512/512 [==============================] - 101s 198ms/step - loss: 0.6596 - accuracy: 0.8984\n",
            "Epoch 74/80\n",
            "512/512 [==============================] - 102s 199ms/step - loss: 0.6550 - accuracy: 0.8995\n",
            "Epoch 75/80\n",
            "512/512 [==============================] - 102s 199ms/step - loss: 0.6381 - accuracy: 0.9029\n",
            "Epoch 76/80\n",
            "512/512 [==============================] - 102s 199ms/step - loss: 0.6262 - accuracy: 0.9044\n",
            "Epoch 77/80\n",
            "512/512 [==============================] - 101s 198ms/step - loss: 0.6108 - accuracy: 0.9084\n",
            "Epoch 78/80\n",
            "512/512 [==============================] - 102s 199ms/step - loss: 0.6035 - accuracy: 0.9093\n",
            "Epoch 79/80\n",
            "512/512 [==============================] - 102s 200ms/step - loss: 0.5868 - accuracy: 0.9139\n",
            "Epoch 80/80\n",
            "512/512 [==============================] - 102s 200ms/step - loss: 0.5831 - accuracy: 0.9147\n",
            "CPU times: user 1h 20min 51s, sys: 3min 39s, total: 1h 24min 31s\n",
            "Wall time: 2h 16min 26s\n"
          ]
        }
      ],
      "source": [
        "%%time\n",
        "\n",
        "history = model.fit(predictors, label, batch_size=133, epochs=80, verbose=1)"
      ]
    },
    {
      "cell_type": "code",
      "source": [
        "model.save_weights('model_weights', save_format='tf')"
      ],
      "metadata": {
        "id": "0Gxe8pevceml"
      },
      "execution_count": 12,
      "outputs": []
    },
    {
      "cell_type": "code",
      "execution_count": 9,
      "metadata": {
        "id": "GOnWZQuCRCPW",
        "colab": {
          "base_uri": "https://localhost:8080/",
          "height": 545
        },
        "outputId": "71fe96f9-bd10-4649-cd2a-67cc78f40c03"
      },
      "outputs": [
        {
          "output_type": "display_data",
          "data": {
            "image/png": "[encoded data removed]",
            "text/plain": [
              "<Figure size 432x288 with 1 Axes>"
            ]
          },
          "metadata": {
            "needs_background": "light"
          }
        },
        {
          "output_type": "display_data",
          "data": {
            "image/png": "[encoded data removed]",
            "text/plain": [
              "<Figure size 432x288 with 1 Axes>"
            ]
          },
          "metadata": {
            "needs_background": "light"
          }
        }
      ],
      "source": [
        "import matplotlib.pyplot as plt\n",
        "acc = history.history['accuracy']\n",
        "loss = history.history['loss']\n",
        "epochs = range(len(acc))\n",
        "plt.plot(epochs, acc, 'b', label='Training accuracy')\n",
        "plt.title('Training accuracy')\n",
        "plt.figure()\n",
        "plt.plot(epochs, loss, 'b', label='Training Loss')  \n",
        "plt.title('Training loss')\n",
        "plt.legend()\n",
        "plt.show()"
      ]
    },
    {
      "cell_type": "code",
      "execution_count": null,
      "metadata": {
        "id": "3ZdPbKCo38a2"
      },
      "outputs": [],
      "source": [
        "from google.colab import drive\n",
        "drive.mount('/content/drive')"
      ]
    },
    {
      "cell_type": "code",
      "execution_count": null,
      "metadata": {
        "id": "pGy2GOynRMb_"
      },
      "outputs": [],
      "source": [
        "seed_text = \"will make America grate again\"\n",
        "next_words = 100"
      ]
    },
    {
      "cell_type": "code",
      "execution_count": null,
      "metadata": {
        "colab": {
          "base_uri": "https://localhost:8080/"
        },
        "id": "kmLhlSZaRPTx",
        "outputId": "3cf2fa7c-3b87-4515-80ff-518270d8e27d"
      },
      "outputs": [
        {
          "name": "stdout",
          "output_type": "stream",
          "text": [
            "will make America grate again article attack over my food right for korea lives 'united states' tax' 'united states politics and government' 'xi 3 oped 23 2017 04 26 19 38 09 sunday review bro judge would need — killings to not known really help themselves white your raw might state see the new york times blog https lens blogs nytimes com 2017 04 12 nyregion justice he britains trade syria html html html california that greek even our relationship against the supreme it by money recap html html html out with our think weapons their fight not called v milestone the new york times\n"
          ]
        }
      ],
      "source": [
        "# after 10 epochs training\n",
        "\n",
        "for _ in range(next_words):\n",
        "    token_list = tokenizer.texts_to_sequences([seed_text])[0]\n",
        "    token_list = pad_sequences([token_list], maxlen=max_sequence_len-1, padding='pre')\n",
        "    predicted_probs = model.predict(token_list)[0]\n",
        "    predicted = np.random.choice([x for x in range(len(predicted_probs))],\n",
        "                               p=predicted_probs)\n",
        "    output_word = \"\"\n",
        "    for word, index in tokenizer.word_index.items():\n",
        "        if index == predicted:\n",
        "            output_word = word\n",
        "            break\n",
        "    seed_text += \" \" + output_word\n",
        "print(seed_text)"
      ]
    },
    {
      "cell_type": "code",
      "execution_count": 25,
      "metadata": {
        "id": "SjHfXHmLU0pN"
      },
      "outputs": [],
      "source": [
        "seed_text = \"will make America grate again\"\n",
        "next_words = 20"
      ]
    },
    {
      "cell_type": "code",
      "source": [
        "# after 80 epochs training\n",
        "\n",
        "for _ in range(next_words):\n",
        "    token_list = tokenizer.texts_to_sequences([seed_text])[0]\n",
        "    token_list = pad_sequences([token_list], maxlen=max_sequence_len-1, padding='pre')\n",
        "    predicted_probs = model.predict(token_list)[0]\n",
        "    predicted = np.random.choice([x for x in range(len(predicted_probs))],\n",
        "                               p=predicted_probs)\n",
        "    output_word = \"\"\n",
        "    for word, index in tokenizer.word_index.items():\n",
        "        if index == predicted:\n",
        "            output_word = word\n",
        "            break\n",
        "    seed_text += \" \" + output_word\n",
        "print(seed_text)"
      ],
      "metadata": {
        "colab": {
          "base_uri": "https://localhost:8080/"
        },
        "id": "UHDZWMMwc3Pt",
        "outputId": "e835b53c-0739-4d00-e474-9315e168d219"
      },
      "execution_count": 26,
      "outputs": [
        {
          "output_type": "stream",
          "name": "stdout",
          "text": [
            "will make America grate again article voters comes to the early vote lines donald party 'united states politics and government' 3 national 19 2017 04\n"
          ]
        }
      ]
    },
    {
      "cell_type": "code",
      "source": [
        "seed_text = \"united states\"\n",
        "next_words = 10"
      ],
      "metadata": {
        "id": "LRg5iCr-dYqw"
      },
      "execution_count": 23,
      "outputs": []
    },
    {
      "cell_type": "code",
      "source": [
        "\n",
        "for _ in range(next_words):\n",
        "    token_list = tokenizer.texts_to_sequences([seed_text])[0]\n",
        "    token_list = pad_sequences([token_list], maxlen=max_sequence_len-1, padding='pre')\n",
        "    predicted_probs = model.predict(token_list)[0]\n",
        "    predicted = np.random.choice([x for x in range(len(predicted_probs))],\n",
        "                               p=predicted_probs)\n",
        "    output_word = \"\"\n",
        "    for word, index in tokenizer.word_index.items():\n",
        "        if index == predicted:\n",
        "            output_word = word\n",
        "            break\n",
        "    seed_text += \" \" + output_word\n",
        "print(seed_text)"
      ],
      "metadata": {
        "colab": {
          "base_uri": "https://localhost:8080/"
        },
        "id": "dONt9-LbdoWU",
        "outputId": "3ca11538-c98c-48eb-bd0c-136bb65e1f4f"
      },
      "execution_count": 24,
      "outputs": [
        {
          "output_type": "stream",
          "name": "stdout",
          "text": [
            "united states by gretchen reynolds article runners live trans fix 400 says\n"
          ]
        }
      ]
    }
  ],
  "metadata": {
    "accelerator": "GPU",
    "colab": {
      "collapsed_sections": [],
      "name": "Text_generation_LSTM.ipynb",
      "provenance": [],
      "authorship_tag": "ABX9TyMAWw+eqKGiJf3oPxbE1rQd",
      "include_colab_link": true
    },
    "kernelspec": {
      "display_name": "Python 3",
      "name": "python3"
    },
    "language_info": {
      "name": "python"
    }
  },
  "nbformat": 4,
  "nbformat_minor": 0
}